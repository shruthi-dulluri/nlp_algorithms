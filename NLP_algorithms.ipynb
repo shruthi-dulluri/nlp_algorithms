{
  "nbformat": 4,
  "nbformat_minor": 0,
  "metadata": {
    "colab": {
      "provenance": []
    },
    "kernelspec": {
      "name": "python3",
      "display_name": "Python 3"
    },
    "language_info": {
      "name": "python"
    }
  },
  "cells": [
    {
      "cell_type": "code",
      "execution_count": 1,
      "metadata": {
        "id": "lWd1_I5ZXovW"
      },
      "outputs": [],
      "source": [
        "import pandas as pd\n",
        "import numpy as np\n",
        "import matplotlib.pyplot as plt\n",
        "import seaborn as sns"
      ]
    },
    {
      "cell_type": "code",
      "source": [
        "import nltk"
      ],
      "metadata": {
        "id": "OLG1SeFmZNQH"
      },
      "execution_count": 2,
      "outputs": []
    },
    {
      "cell_type": "code",
      "source": [
        "nltk.download('punkt')"
      ],
      "metadata": {
        "colab": {
          "base_uri": "https://localhost:8080/"
        },
        "id": "fMjH1tN0ZQ7h",
        "outputId": "cb8ad299-bec3-44f6-cebd-4591af1d7f00"
      },
      "execution_count": 3,
      "outputs": [
        {
          "output_type": "stream",
          "name": "stderr",
          "text": [
            "[nltk_data] Downloading package punkt to /root/nltk_data...\n",
            "[nltk_data]   Unzipping tokenizers/punkt.zip.\n"
          ]
        },
        {
          "output_type": "execute_result",
          "data": {
            "text/plain": [
              "True"
            ]
          },
          "metadata": {},
          "execution_count": 3
        }
      ]
    },
    {
      "cell_type": "code",
      "source": [
        "data=pd.read_csv('bbc-text.csv')\n",
        "data.head()"
      ],
      "metadata": {
        "colab": {
          "base_uri": "https://localhost:8080/",
          "height": 206
        },
        "id": "4t5liU9dZWWr",
        "outputId": "ecbd689c-bdfe-443b-cec5-f07fa4f6ea8d"
      },
      "execution_count": 4,
      "outputs": [
        {
          "output_type": "execute_result",
          "data": {
            "text/plain": [
              "        category                                               text\n",
              "0           tech  tv future in the hands of viewers with home th...\n",
              "1       business  worldcom boss  left books alone  former worldc...\n",
              "2          sport  tigers wary of farrell  gamble  leicester say ...\n",
              "3          sport  yeading face newcastle in fa cup premiership s...\n",
              "4  entertainment  ocean s twelve raids box office ocean s twelve..."
            ],
            "text/html": [
              "\n",
              "  <div id=\"df-abbd1afb-e41b-4534-902f-9ca71a3f1a14\" class=\"colab-df-container\">\n",
              "    <div>\n",
              "<style scoped>\n",
              "    .dataframe tbody tr th:only-of-type {\n",
              "        vertical-align: middle;\n",
              "    }\n",
              "\n",
              "    .dataframe tbody tr th {\n",
              "        vertical-align: top;\n",
              "    }\n",
              "\n",
              "    .dataframe thead th {\n",
              "        text-align: right;\n",
              "    }\n",
              "</style>\n",
              "<table border=\"1\" class=\"dataframe\">\n",
              "  <thead>\n",
              "    <tr style=\"text-align: right;\">\n",
              "      <th></th>\n",
              "      <th>category</th>\n",
              "      <th>text</th>\n",
              "    </tr>\n",
              "  </thead>\n",
              "  <tbody>\n",
              "    <tr>\n",
              "      <th>0</th>\n",
              "      <td>tech</td>\n",
              "      <td>tv future in the hands of viewers with home th...</td>\n",
              "    </tr>\n",
              "    <tr>\n",
              "      <th>1</th>\n",
              "      <td>business</td>\n",
              "      <td>worldcom boss  left books alone  former worldc...</td>\n",
              "    </tr>\n",
              "    <tr>\n",
              "      <th>2</th>\n",
              "      <td>sport</td>\n",
              "      <td>tigers wary of farrell  gamble  leicester say ...</td>\n",
              "    </tr>\n",
              "    <tr>\n",
              "      <th>3</th>\n",
              "      <td>sport</td>\n",
              "      <td>yeading face newcastle in fa cup premiership s...</td>\n",
              "    </tr>\n",
              "    <tr>\n",
              "      <th>4</th>\n",
              "      <td>entertainment</td>\n",
              "      <td>ocean s twelve raids box office ocean s twelve...</td>\n",
              "    </tr>\n",
              "  </tbody>\n",
              "</table>\n",
              "</div>\n",
              "    <div class=\"colab-df-buttons\">\n",
              "\n",
              "  <div class=\"colab-df-container\">\n",
              "    <button class=\"colab-df-convert\" onclick=\"convertToInteractive('df-abbd1afb-e41b-4534-902f-9ca71a3f1a14')\"\n",
              "            title=\"Convert this dataframe to an interactive table.\"\n",
              "            style=\"display:none;\">\n",
              "\n",
              "  <svg xmlns=\"http://www.w3.org/2000/svg\" height=\"24px\" viewBox=\"0 -960 960 960\">\n",
              "    <path d=\"M120-120v-720h720v720H120Zm60-500h600v-160H180v160Zm220 220h160v-160H400v160Zm0 220h160v-160H400v160ZM180-400h160v-160H180v160Zm440 0h160v-160H620v160ZM180-180h160v-160H180v160Zm440 0h160v-160H620v160Z\"/>\n",
              "  </svg>\n",
              "    </button>\n",
              "\n",
              "  <style>\n",
              "    .colab-df-container {\n",
              "      display:flex;\n",
              "      gap: 12px;\n",
              "    }\n",
              "\n",
              "    .colab-df-convert {\n",
              "      background-color: #E8F0FE;\n",
              "      border: none;\n",
              "      border-radius: 50%;\n",
              "      cursor: pointer;\n",
              "      display: none;\n",
              "      fill: #1967D2;\n",
              "      height: 32px;\n",
              "      padding: 0 0 0 0;\n",
              "      width: 32px;\n",
              "    }\n",
              "\n",
              "    .colab-df-convert:hover {\n",
              "      background-color: #E2EBFA;\n",
              "      box-shadow: 0px 1px 2px rgba(60, 64, 67, 0.3), 0px 1px 3px 1px rgba(60, 64, 67, 0.15);\n",
              "      fill: #174EA6;\n",
              "    }\n",
              "\n",
              "    .colab-df-buttons div {\n",
              "      margin-bottom: 4px;\n",
              "    }\n",
              "\n",
              "    [theme=dark] .colab-df-convert {\n",
              "      background-color: #3B4455;\n",
              "      fill: #D2E3FC;\n",
              "    }\n",
              "\n",
              "    [theme=dark] .colab-df-convert:hover {\n",
              "      background-color: #434B5C;\n",
              "      box-shadow: 0px 1px 3px 1px rgba(0, 0, 0, 0.15);\n",
              "      filter: drop-shadow(0px 1px 2px rgba(0, 0, 0, 0.3));\n",
              "      fill: #FFFFFF;\n",
              "    }\n",
              "  </style>\n",
              "\n",
              "    <script>\n",
              "      const buttonEl =\n",
              "        document.querySelector('#df-abbd1afb-e41b-4534-902f-9ca71a3f1a14 button.colab-df-convert');\n",
              "      buttonEl.style.display =\n",
              "        google.colab.kernel.accessAllowed ? 'block' : 'none';\n",
              "\n",
              "      async function convertToInteractive(key) {\n",
              "        const element = document.querySelector('#df-abbd1afb-e41b-4534-902f-9ca71a3f1a14');\n",
              "        const dataTable =\n",
              "          await google.colab.kernel.invokeFunction('convertToInteractive',\n",
              "                                                    [key], {});\n",
              "        if (!dataTable) return;\n",
              "\n",
              "        const docLinkHtml = 'Like what you see? Visit the ' +\n",
              "          '<a target=\"_blank\" href=https://colab.research.google.com/notebooks/data_table.ipynb>data table notebook</a>'\n",
              "          + ' to learn more about interactive tables.';\n",
              "        element.innerHTML = '';\n",
              "        dataTable['output_type'] = 'display_data';\n",
              "        await google.colab.output.renderOutput(dataTable, element);\n",
              "        const docLink = document.createElement('div');\n",
              "        docLink.innerHTML = docLinkHtml;\n",
              "        element.appendChild(docLink);\n",
              "      }\n",
              "    </script>\n",
              "  </div>\n",
              "\n",
              "\n",
              "<div id=\"df-61a108ba-de0e-4221-8c42-4822b1eec624\">\n",
              "  <button class=\"colab-df-quickchart\" onclick=\"quickchart('df-61a108ba-de0e-4221-8c42-4822b1eec624')\"\n",
              "            title=\"Suggest charts\"\n",
              "            style=\"display:none;\">\n",
              "\n",
              "<svg xmlns=\"http://www.w3.org/2000/svg\" height=\"24px\"viewBox=\"0 0 24 24\"\n",
              "     width=\"24px\">\n",
              "    <g>\n",
              "        <path d=\"M19 3H5c-1.1 0-2 .9-2 2v14c0 1.1.9 2 2 2h14c1.1 0 2-.9 2-2V5c0-1.1-.9-2-2-2zM9 17H7v-7h2v7zm4 0h-2V7h2v10zm4 0h-2v-4h2v4z\"/>\n",
              "    </g>\n",
              "</svg>\n",
              "  </button>\n",
              "\n",
              "<style>\n",
              "  .colab-df-quickchart {\n",
              "      --bg-color: #E8F0FE;\n",
              "      --fill-color: #1967D2;\n",
              "      --hover-bg-color: #E2EBFA;\n",
              "      --hover-fill-color: #174EA6;\n",
              "      --disabled-fill-color: #AAA;\n",
              "      --disabled-bg-color: #DDD;\n",
              "  }\n",
              "\n",
              "  [theme=dark] .colab-df-quickchart {\n",
              "      --bg-color: #3B4455;\n",
              "      --fill-color: #D2E3FC;\n",
              "      --hover-bg-color: #434B5C;\n",
              "      --hover-fill-color: #FFFFFF;\n",
              "      --disabled-bg-color: #3B4455;\n",
              "      --disabled-fill-color: #666;\n",
              "  }\n",
              "\n",
              "  .colab-df-quickchart {\n",
              "    background-color: var(--bg-color);\n",
              "    border: none;\n",
              "    border-radius: 50%;\n",
              "    cursor: pointer;\n",
              "    display: none;\n",
              "    fill: var(--fill-color);\n",
              "    height: 32px;\n",
              "    padding: 0;\n",
              "    width: 32px;\n",
              "  }\n",
              "\n",
              "  .colab-df-quickchart:hover {\n",
              "    background-color: var(--hover-bg-color);\n",
              "    box-shadow: 0 1px 2px rgba(60, 64, 67, 0.3), 0 1px 3px 1px rgba(60, 64, 67, 0.15);\n",
              "    fill: var(--button-hover-fill-color);\n",
              "  }\n",
              "\n",
              "  .colab-df-quickchart-complete:disabled,\n",
              "  .colab-df-quickchart-complete:disabled:hover {\n",
              "    background-color: var(--disabled-bg-color);\n",
              "    fill: var(--disabled-fill-color);\n",
              "    box-shadow: none;\n",
              "  }\n",
              "\n",
              "  .colab-df-spinner {\n",
              "    border: 2px solid var(--fill-color);\n",
              "    border-color: transparent;\n",
              "    border-bottom-color: var(--fill-color);\n",
              "    animation:\n",
              "      spin 1s steps(1) infinite;\n",
              "  }\n",
              "\n",
              "  @keyframes spin {\n",
              "    0% {\n",
              "      border-color: transparent;\n",
              "      border-bottom-color: var(--fill-color);\n",
              "      border-left-color: var(--fill-color);\n",
              "    }\n",
              "    20% {\n",
              "      border-color: transparent;\n",
              "      border-left-color: var(--fill-color);\n",
              "      border-top-color: var(--fill-color);\n",
              "    }\n",
              "    30% {\n",
              "      border-color: transparent;\n",
              "      border-left-color: var(--fill-color);\n",
              "      border-top-color: var(--fill-color);\n",
              "      border-right-color: var(--fill-color);\n",
              "    }\n",
              "    40% {\n",
              "      border-color: transparent;\n",
              "      border-right-color: var(--fill-color);\n",
              "      border-top-color: var(--fill-color);\n",
              "    }\n",
              "    60% {\n",
              "      border-color: transparent;\n",
              "      border-right-color: var(--fill-color);\n",
              "    }\n",
              "    80% {\n",
              "      border-color: transparent;\n",
              "      border-right-color: var(--fill-color);\n",
              "      border-bottom-color: var(--fill-color);\n",
              "    }\n",
              "    90% {\n",
              "      border-color: transparent;\n",
              "      border-bottom-color: var(--fill-color);\n",
              "    }\n",
              "  }\n",
              "</style>\n",
              "\n",
              "  <script>\n",
              "    async function quickchart(key) {\n",
              "      const quickchartButtonEl =\n",
              "        document.querySelector('#' + key + ' button');\n",
              "      quickchartButtonEl.disabled = true;  // To prevent multiple clicks.\n",
              "      quickchartButtonEl.classList.add('colab-df-spinner');\n",
              "      try {\n",
              "        const charts = await google.colab.kernel.invokeFunction(\n",
              "            'suggestCharts', [key], {});\n",
              "      } catch (error) {\n",
              "        console.error('Error during call to suggestCharts:', error);\n",
              "      }\n",
              "      quickchartButtonEl.classList.remove('colab-df-spinner');\n",
              "      quickchartButtonEl.classList.add('colab-df-quickchart-complete');\n",
              "    }\n",
              "    (() => {\n",
              "      let quickchartButtonEl =\n",
              "        document.querySelector('#df-61a108ba-de0e-4221-8c42-4822b1eec624 button');\n",
              "      quickchartButtonEl.style.display =\n",
              "        google.colab.kernel.accessAllowed ? 'block' : 'none';\n",
              "    })();\n",
              "  </script>\n",
              "</div>\n",
              "\n",
              "    </div>\n",
              "  </div>\n"
            ]
          },
          "metadata": {},
          "execution_count": 4
        }
      ]
    },
    {
      "cell_type": "code",
      "source": [
        "data['category'].value_counts()"
      ],
      "metadata": {
        "colab": {
          "base_uri": "https://localhost:8080/"
        },
        "id": "7bduU-2pZeCp",
        "outputId": "40b14cb1-8c30-43c1-c3dc-192c0a5c15cc"
      },
      "execution_count": 5,
      "outputs": [
        {
          "output_type": "execute_result",
          "data": {
            "text/plain": [
              "sport            511\n",
              "business         510\n",
              "politics         417\n",
              "tech             401\n",
              "entertainment    386\n",
              "Name: category, dtype: int64"
            ]
          },
          "metadata": {},
          "execution_count": 5
        }
      ]
    },
    {
      "cell_type": "code",
      "source": [
        "import spacy"
      ],
      "metadata": {
        "id": "E7GV26eAZnLy"
      },
      "execution_count": 6,
      "outputs": []
    },
    {
      "cell_type": "code",
      "source": [
        "spacy.cli.download('en_core_web_lg')"
      ],
      "metadata": {
        "colab": {
          "base_uri": "https://localhost:8080/"
        },
        "id": "P2WL4dOwZtKx",
        "outputId": "9baa5343-fcc5-42b5-b15b-e602ccacb7de"
      },
      "execution_count": 7,
      "outputs": [
        {
          "output_type": "stream",
          "name": "stdout",
          "text": [
            "\u001b[38;5;2m✔ Download and installation successful\u001b[0m\n",
            "You can now load the package via spacy.load('en_core_web_lg')\n"
          ]
        }
      ]
    },
    {
      "cell_type": "code",
      "source": [
        "nlp=spacy.load('en_core_web_lg')"
      ],
      "metadata": {
        "id": "hN9g92YJZ3T3"
      },
      "execution_count": 8,
      "outputs": []
    },
    {
      "cell_type": "code",
      "source": [
        "text=data['text'][:11][1]"
      ],
      "metadata": {
        "id": "aUdqM3owaCZZ"
      },
      "execution_count": 9,
      "outputs": []
    },
    {
      "cell_type": "code",
      "source": [
        "text = []\n",
        "for i  in  data['text'][:11]:\n",
        "  text.append(i)"
      ],
      "metadata": {
        "id": "EYNLp5DSaKVf"
      },
      "execution_count": 10,
      "outputs": []
    },
    {
      "cell_type": "code",
      "source": [
        "\n",
        "text"
      ],
      "metadata": {
        "id": "kbyp_4uwwN67"
      },
      "execution_count": null,
      "outputs": []
    },
    {
      "cell_type": "code",
      "source": [
        "# Topic modeling using SVM"
      ],
      "metadata": {
        "id": "hCiSfvShdmLK"
      },
      "execution_count": 15,
      "outputs": []
    },
    {
      "cell_type": "code",
      "source": [
        "from sklearn.feature_extraction.text import TfidfVectorizer"
      ],
      "metadata": {
        "id": "_pO7WD-iduTd"
      },
      "execution_count": 16,
      "outputs": []
    },
    {
      "cell_type": "code",
      "source": [
        "vectorizer= TfidfVectorizer(max_features=100,stop_words='english')\n"
      ],
      "metadata": {
        "id": "3s1Mr5did3_S"
      },
      "execution_count": 49,
      "outputs": []
    },
    {
      "cell_type": "code",
      "source": [
        "X=data['text']\n",
        "y=data['category']"
      ],
      "metadata": {
        "id": "w1QM0IkseM-j"
      },
      "execution_count": 55,
      "outputs": []
    },
    {
      "cell_type": "code",
      "source": [
        "X_transformed=vectorizer.fit_transform(X)"
      ],
      "metadata": {
        "id": "oKM8HvPVguQh"
      },
      "execution_count": 56,
      "outputs": []
    },
    {
      "cell_type": "code",
      "source": [
        "from sklearn.model_selection import train_test_split"
      ],
      "metadata": {
        "id": "oI8MxDtWRAqH"
      },
      "execution_count": 57,
      "outputs": []
    },
    {
      "cell_type": "code",
      "source": [
        "X_train,X_test,y_train,y_test=train_test_split(X_transformed,y,test_size=0.2,random_state=101)"
      ],
      "metadata": {
        "id": "fbacjm7gTLWM"
      },
      "execution_count": 58,
      "outputs": []
    },
    {
      "cell_type": "code",
      "source": [
        "from sklearn.svm import SVC\n",
        "svc=SVC(kernel='rbf')\n",
        "svc.fit(X_train,y_train)\n",
        "y_pred=svc.predict(X_test)\n",
        "from sklearn.metrics import accuracy_score\n",
        "print(accuracy_score(y_test,y_pred))"
      ],
      "metadata": {
        "colab": {
          "base_uri": "https://localhost:8080/"
        },
        "id": "11qFZ_GzTX6J",
        "outputId": "eedaedf7-f585-4c6b-bc95-d41aa08f1b76"
      },
      "execution_count": 59,
      "outputs": [
        {
          "output_type": "stream",
          "name": "stdout",
          "text": [
            "0.9191011235955057\n"
          ]
        }
      ]
    },
    {
      "cell_type": "code",
      "source": [
        "svc.predict(X_train[1:13])"
      ],
      "metadata": {
        "colab": {
          "base_uri": "https://localhost:8080/"
        },
        "id": "CjBBjj1TT_YZ",
        "outputId": "0794db36-edb0-4b1b-81bd-44a68fa1d2f6"
      },
      "execution_count": 69,
      "outputs": [
        {
          "output_type": "execute_result",
          "data": {
            "text/plain": [
              "array(['sport', 'business', 'politics', 'tech', 'politics', 'business',\n",
              "       'entertainment', 'sport', 'politics', 'business', 'sport',\n",
              "       'entertainment'], dtype=object)"
            ]
          },
          "metadata": {},
          "execution_count": 69
        }
      ]
    },
    {
      "cell_type": "code",
      "source": [
        "y_train[1:13]"
      ],
      "metadata": {
        "colab": {
          "base_uri": "https://localhost:8080/"
        },
        "id": "bOy52UF_ULwH",
        "outputId": "d00ebf93-67ca-4ae9-c24f-73726a07d090"
      },
      "execution_count": 68,
      "outputs": [
        {
          "output_type": "execute_result",
          "data": {
            "text/plain": [
              "41              sport\n",
              "631          business\n",
              "946          politics\n",
              "721              tech\n",
              "1735         politics\n",
              "563          business\n",
              "1472    entertainment\n",
              "533             sport\n",
              "677          politics\n",
              "1947         business\n",
              "980             sport\n",
              "1209    entertainment\n",
              "Name: category, dtype: object"
            ]
          },
          "metadata": {},
          "execution_count": 68
        }
      ]
    },
    {
      "cell_type": "code",
      "source": [
        "#Imporace of word in the document given by TfidfVectorizer\n",
        "from sklearn.feature_extraction.text import TfidfVectorizer"
      ],
      "metadata": {
        "id": "wMo8sDOTAwrz"
      },
      "execution_count": 70,
      "outputs": []
    },
    {
      "cell_type": "markdown",
      "source": [],
      "metadata": {
        "id": "zSyuJAoHSiPo"
      }
    },
    {
      "cell_type": "code",
      "source": [
        "tf_idf=TfidfVectorizer()\n",
        "tf_idf_matrix=tf_idf.fit_transform(procesed_data)"
      ],
      "metadata": {
        "id": "3YpOwhlMBBSX"
      },
      "execution_count": 71,
      "outputs": []
    },
    {
      "cell_type": "code",
      "source": [
        "feature_names=tf_idf.get_feature_names_out()"
      ],
      "metadata": {
        "id": "8tJRKGayUzAm"
      },
      "execution_count": 73,
      "outputs": []
    },
    {
      "cell_type": "code",
      "source": [
        "\n",
        "for doc_id,doc in enumerate(procesed_data):\n",
        "  for word_id,word in enumerate(feature_names):\n",
        "    tf_idf_value=tf_idf_matrix[doc_id,word_id]\n",
        "    if tf_idf_value>0 :\n",
        "      print(f'tf_idf value for {word} in doc {doc_id} is {tf_idf_value}')\n"
      ],
      "metadata": {
        "id": "n0jIQDrWU_hW"
      },
      "execution_count": null,
      "outputs": []
    },
    {
      "cell_type": "code",
      "source": [
        "#finding cosine_similarity between two articles using tfidf_vectorizer"
      ],
      "metadata": {
        "id": "xlbVP91DWf8E"
      },
      "execution_count": 79,
      "outputs": []
    },
    {
      "cell_type": "code",
      "source": [
        "data.head(10)"
      ],
      "metadata": {
        "colab": {
          "base_uri": "https://localhost:8080/",
          "height": 363
        },
        "id": "fGkzfq-EGmIr",
        "outputId": "45ce9653-47d6-468b-b80a-583ebf93fab7"
      },
      "execution_count": 41,
      "outputs": [
        {
          "output_type": "execute_result",
          "data": {
            "text/plain": [
              "        category                                               text\n",
              "0           tech  tv future in the hands of viewers with home th...\n",
              "1       business  worldcom boss  left books alone  former worldc...\n",
              "2          sport  tigers wary of farrell  gamble  leicester say ...\n",
              "3          sport  yeading face newcastle in fa cup premiership s...\n",
              "4  entertainment  ocean s twelve raids box office ocean s twelve...\n",
              "5       politics  howard hits back at mongrel jibe michael howar...\n",
              "6       politics  blair prepares to name poll date tony blair is...\n",
              "7          sport  henman hopes ended in dubai third seed tim hen...\n",
              "8          sport  wilkinson fit to face edinburgh england captai...\n",
              "9  entertainment  last star wars  not for children  the sixth an..."
            ],
            "text/html": [
              "\n",
              "  <div id=\"df-3aa960a8-2040-412e-8cba-69d1f38756f9\" class=\"colab-df-container\">\n",
              "    <div>\n",
              "<style scoped>\n",
              "    .dataframe tbody tr th:only-of-type {\n",
              "        vertical-align: middle;\n",
              "    }\n",
              "\n",
              "    .dataframe tbody tr th {\n",
              "        vertical-align: top;\n",
              "    }\n",
              "\n",
              "    .dataframe thead th {\n",
              "        text-align: right;\n",
              "    }\n",
              "</style>\n",
              "<table border=\"1\" class=\"dataframe\">\n",
              "  <thead>\n",
              "    <tr style=\"text-align: right;\">\n",
              "      <th></th>\n",
              "      <th>category</th>\n",
              "      <th>text</th>\n",
              "    </tr>\n",
              "  </thead>\n",
              "  <tbody>\n",
              "    <tr>\n",
              "      <th>0</th>\n",
              "      <td>tech</td>\n",
              "      <td>tv future in the hands of viewers with home th...</td>\n",
              "    </tr>\n",
              "    <tr>\n",
              "      <th>1</th>\n",
              "      <td>business</td>\n",
              "      <td>worldcom boss  left books alone  former worldc...</td>\n",
              "    </tr>\n",
              "    <tr>\n",
              "      <th>2</th>\n",
              "      <td>sport</td>\n",
              "      <td>tigers wary of farrell  gamble  leicester say ...</td>\n",
              "    </tr>\n",
              "    <tr>\n",
              "      <th>3</th>\n",
              "      <td>sport</td>\n",
              "      <td>yeading face newcastle in fa cup premiership s...</td>\n",
              "    </tr>\n",
              "    <tr>\n",
              "      <th>4</th>\n",
              "      <td>entertainment</td>\n",
              "      <td>ocean s twelve raids box office ocean s twelve...</td>\n",
              "    </tr>\n",
              "    <tr>\n",
              "      <th>5</th>\n",
              "      <td>politics</td>\n",
              "      <td>howard hits back at mongrel jibe michael howar...</td>\n",
              "    </tr>\n",
              "    <tr>\n",
              "      <th>6</th>\n",
              "      <td>politics</td>\n",
              "      <td>blair prepares to name poll date tony blair is...</td>\n",
              "    </tr>\n",
              "    <tr>\n",
              "      <th>7</th>\n",
              "      <td>sport</td>\n",
              "      <td>henman hopes ended in dubai third seed tim hen...</td>\n",
              "    </tr>\n",
              "    <tr>\n",
              "      <th>8</th>\n",
              "      <td>sport</td>\n",
              "      <td>wilkinson fit to face edinburgh england captai...</td>\n",
              "    </tr>\n",
              "    <tr>\n",
              "      <th>9</th>\n",
              "      <td>entertainment</td>\n",
              "      <td>last star wars  not for children  the sixth an...</td>\n",
              "    </tr>\n",
              "  </tbody>\n",
              "</table>\n",
              "</div>\n",
              "    <div class=\"colab-df-buttons\">\n",
              "\n",
              "  <div class=\"colab-df-container\">\n",
              "    <button class=\"colab-df-convert\" onclick=\"convertToInteractive('df-3aa960a8-2040-412e-8cba-69d1f38756f9')\"\n",
              "            title=\"Convert this dataframe to an interactive table.\"\n",
              "            style=\"display:none;\">\n",
              "\n",
              "  <svg xmlns=\"http://www.w3.org/2000/svg\" height=\"24px\" viewBox=\"0 -960 960 960\">\n",
              "    <path d=\"M120-120v-720h720v720H120Zm60-500h600v-160H180v160Zm220 220h160v-160H400v160Zm0 220h160v-160H400v160ZM180-400h160v-160H180v160Zm440 0h160v-160H620v160ZM180-180h160v-160H180v160Zm440 0h160v-160H620v160Z\"/>\n",
              "  </svg>\n",
              "    </button>\n",
              "\n",
              "  <style>\n",
              "    .colab-df-container {\n",
              "      display:flex;\n",
              "      gap: 12px;\n",
              "    }\n",
              "\n",
              "    .colab-df-convert {\n",
              "      background-color: #E8F0FE;\n",
              "      border: none;\n",
              "      border-radius: 50%;\n",
              "      cursor: pointer;\n",
              "      display: none;\n",
              "      fill: #1967D2;\n",
              "      height: 32px;\n",
              "      padding: 0 0 0 0;\n",
              "      width: 32px;\n",
              "    }\n",
              "\n",
              "    .colab-df-convert:hover {\n",
              "      background-color: #E2EBFA;\n",
              "      box-shadow: 0px 1px 2px rgba(60, 64, 67, 0.3), 0px 1px 3px 1px rgba(60, 64, 67, 0.15);\n",
              "      fill: #174EA6;\n",
              "    }\n",
              "\n",
              "    .colab-df-buttons div {\n",
              "      margin-bottom: 4px;\n",
              "    }\n",
              "\n",
              "    [theme=dark] .colab-df-convert {\n",
              "      background-color: #3B4455;\n",
              "      fill: #D2E3FC;\n",
              "    }\n",
              "\n",
              "    [theme=dark] .colab-df-convert:hover {\n",
              "      background-color: #434B5C;\n",
              "      box-shadow: 0px 1px 3px 1px rgba(0, 0, 0, 0.15);\n",
              "      filter: drop-shadow(0px 1px 2px rgba(0, 0, 0, 0.3));\n",
              "      fill: #FFFFFF;\n",
              "    }\n",
              "  </style>\n",
              "\n",
              "    <script>\n",
              "      const buttonEl =\n",
              "        document.querySelector('#df-3aa960a8-2040-412e-8cba-69d1f38756f9 button.colab-df-convert');\n",
              "      buttonEl.style.display =\n",
              "        google.colab.kernel.accessAllowed ? 'block' : 'none';\n",
              "\n",
              "      async function convertToInteractive(key) {\n",
              "        const element = document.querySelector('#df-3aa960a8-2040-412e-8cba-69d1f38756f9');\n",
              "        const dataTable =\n",
              "          await google.colab.kernel.invokeFunction('convertToInteractive',\n",
              "                                                    [key], {});\n",
              "        if (!dataTable) return;\n",
              "\n",
              "        const docLinkHtml = 'Like what you see? Visit the ' +\n",
              "          '<a target=\"_blank\" href=https://colab.research.google.com/notebooks/data_table.ipynb>data table notebook</a>'\n",
              "          + ' to learn more about interactive tables.';\n",
              "        element.innerHTML = '';\n",
              "        dataTable['output_type'] = 'display_data';\n",
              "        await google.colab.output.renderOutput(dataTable, element);\n",
              "        const docLink = document.createElement('div');\n",
              "        docLink.innerHTML = docLinkHtml;\n",
              "        element.appendChild(docLink);\n",
              "      }\n",
              "    </script>\n",
              "  </div>\n",
              "\n",
              "\n",
              "<div id=\"df-3d564172-2674-4155-ab10-0c9f11102ab2\">\n",
              "  <button class=\"colab-df-quickchart\" onclick=\"quickchart('df-3d564172-2674-4155-ab10-0c9f11102ab2')\"\n",
              "            title=\"Suggest charts\"\n",
              "            style=\"display:none;\">\n",
              "\n",
              "<svg xmlns=\"http://www.w3.org/2000/svg\" height=\"24px\"viewBox=\"0 0 24 24\"\n",
              "     width=\"24px\">\n",
              "    <g>\n",
              "        <path d=\"M19 3H5c-1.1 0-2 .9-2 2v14c0 1.1.9 2 2 2h14c1.1 0 2-.9 2-2V5c0-1.1-.9-2-2-2zM9 17H7v-7h2v7zm4 0h-2V7h2v10zm4 0h-2v-4h2v4z\"/>\n",
              "    </g>\n",
              "</svg>\n",
              "  </button>\n",
              "\n",
              "<style>\n",
              "  .colab-df-quickchart {\n",
              "      --bg-color: #E8F0FE;\n",
              "      --fill-color: #1967D2;\n",
              "      --hover-bg-color: #E2EBFA;\n",
              "      --hover-fill-color: #174EA6;\n",
              "      --disabled-fill-color: #AAA;\n",
              "      --disabled-bg-color: #DDD;\n",
              "  }\n",
              "\n",
              "  [theme=dark] .colab-df-quickchart {\n",
              "      --bg-color: #3B4455;\n",
              "      --fill-color: #D2E3FC;\n",
              "      --hover-bg-color: #434B5C;\n",
              "      --hover-fill-color: #FFFFFF;\n",
              "      --disabled-bg-color: #3B4455;\n",
              "      --disabled-fill-color: #666;\n",
              "  }\n",
              "\n",
              "  .colab-df-quickchart {\n",
              "    background-color: var(--bg-color);\n",
              "    border: none;\n",
              "    border-radius: 50%;\n",
              "    cursor: pointer;\n",
              "    display: none;\n",
              "    fill: var(--fill-color);\n",
              "    height: 32px;\n",
              "    padding: 0;\n",
              "    width: 32px;\n",
              "  }\n",
              "\n",
              "  .colab-df-quickchart:hover {\n",
              "    background-color: var(--hover-bg-color);\n",
              "    box-shadow: 0 1px 2px rgba(60, 64, 67, 0.3), 0 1px 3px 1px rgba(60, 64, 67, 0.15);\n",
              "    fill: var(--button-hover-fill-color);\n",
              "  }\n",
              "\n",
              "  .colab-df-quickchart-complete:disabled,\n",
              "  .colab-df-quickchart-complete:disabled:hover {\n",
              "    background-color: var(--disabled-bg-color);\n",
              "    fill: var(--disabled-fill-color);\n",
              "    box-shadow: none;\n",
              "  }\n",
              "\n",
              "  .colab-df-spinner {\n",
              "    border: 2px solid var(--fill-color);\n",
              "    border-color: transparent;\n",
              "    border-bottom-color: var(--fill-color);\n",
              "    animation:\n",
              "      spin 1s steps(1) infinite;\n",
              "  }\n",
              "\n",
              "  @keyframes spin {\n",
              "    0% {\n",
              "      border-color: transparent;\n",
              "      border-bottom-color: var(--fill-color);\n",
              "      border-left-color: var(--fill-color);\n",
              "    }\n",
              "    20% {\n",
              "      border-color: transparent;\n",
              "      border-left-color: var(--fill-color);\n",
              "      border-top-color: var(--fill-color);\n",
              "    }\n",
              "    30% {\n",
              "      border-color: transparent;\n",
              "      border-left-color: var(--fill-color);\n",
              "      border-top-color: var(--fill-color);\n",
              "      border-right-color: var(--fill-color);\n",
              "    }\n",
              "    40% {\n",
              "      border-color: transparent;\n",
              "      border-right-color: var(--fill-color);\n",
              "      border-top-color: var(--fill-color);\n",
              "    }\n",
              "    60% {\n",
              "      border-color: transparent;\n",
              "      border-right-color: var(--fill-color);\n",
              "    }\n",
              "    80% {\n",
              "      border-color: transparent;\n",
              "      border-right-color: var(--fill-color);\n",
              "      border-bottom-color: var(--fill-color);\n",
              "    }\n",
              "    90% {\n",
              "      border-color: transparent;\n",
              "      border-bottom-color: var(--fill-color);\n",
              "    }\n",
              "  }\n",
              "</style>\n",
              "\n",
              "  <script>\n",
              "    async function quickchart(key) {\n",
              "      const quickchartButtonEl =\n",
              "        document.querySelector('#' + key + ' button');\n",
              "      quickchartButtonEl.disabled = true;  // To prevent multiple clicks.\n",
              "      quickchartButtonEl.classList.add('colab-df-spinner');\n",
              "      try {\n",
              "        const charts = await google.colab.kernel.invokeFunction(\n",
              "            'suggestCharts', [key], {});\n",
              "      } catch (error) {\n",
              "        console.error('Error during call to suggestCharts:', error);\n",
              "      }\n",
              "      quickchartButtonEl.classList.remove('colab-df-spinner');\n",
              "      quickchartButtonEl.classList.add('colab-df-quickchart-complete');\n",
              "    }\n",
              "    (() => {\n",
              "      let quickchartButtonEl =\n",
              "        document.querySelector('#df-3d564172-2674-4155-ab10-0c9f11102ab2 button');\n",
              "      quickchartButtonEl.style.display =\n",
              "        google.colab.kernel.accessAllowed ? 'block' : 'none';\n",
              "    })();\n",
              "  </script>\n",
              "</div>\n",
              "\n",
              "    </div>\n",
              "  </div>\n"
            ]
          },
          "metadata": {},
          "execution_count": 41
        }
      ]
    },
    {
      "cell_type": "code",
      "source": [
        "df=pd.DataFrame({'Article':[data['text'][2],data['text'][3]]})"
      ],
      "metadata": {
        "id": "vTxeBT-9Ge2C"
      },
      "execution_count": 42,
      "outputs": []
    },
    {
      "cell_type": "code",
      "source": [
        "df.head()"
      ],
      "metadata": {
        "colab": {
          "base_uri": "https://localhost:8080/",
          "height": 112
        },
        "id": "DinscYXaKk_V",
        "outputId": "171b0ebc-8cf8-4857-dc56-b4886423e4e6"
      },
      "execution_count": 43,
      "outputs": [
        {
          "output_type": "execute_result",
          "data": {
            "text/plain": [
              "                                             Article\n",
              "0  tigers wary of farrell  gamble  leicester say ...\n",
              "1  yeading face newcastle in fa cup premiership s..."
            ],
            "text/html": [
              "\n",
              "  <div id=\"df-86cd6565-5931-4b3d-a850-44a869eb9fbd\" class=\"colab-df-container\">\n",
              "    <div>\n",
              "<style scoped>\n",
              "    .dataframe tbody tr th:only-of-type {\n",
              "        vertical-align: middle;\n",
              "    }\n",
              "\n",
              "    .dataframe tbody tr th {\n",
              "        vertical-align: top;\n",
              "    }\n",
              "\n",
              "    .dataframe thead th {\n",
              "        text-align: right;\n",
              "    }\n",
              "</style>\n",
              "<table border=\"1\" class=\"dataframe\">\n",
              "  <thead>\n",
              "    <tr style=\"text-align: right;\">\n",
              "      <th></th>\n",
              "      <th>Article</th>\n",
              "    </tr>\n",
              "  </thead>\n",
              "  <tbody>\n",
              "    <tr>\n",
              "      <th>0</th>\n",
              "      <td>tigers wary of farrell  gamble  leicester say ...</td>\n",
              "    </tr>\n",
              "    <tr>\n",
              "      <th>1</th>\n",
              "      <td>yeading face newcastle in fa cup premiership s...</td>\n",
              "    </tr>\n",
              "  </tbody>\n",
              "</table>\n",
              "</div>\n",
              "    <div class=\"colab-df-buttons\">\n",
              "\n",
              "  <div class=\"colab-df-container\">\n",
              "    <button class=\"colab-df-convert\" onclick=\"convertToInteractive('df-86cd6565-5931-4b3d-a850-44a869eb9fbd')\"\n",
              "            title=\"Convert this dataframe to an interactive table.\"\n",
              "            style=\"display:none;\">\n",
              "\n",
              "  <svg xmlns=\"http://www.w3.org/2000/svg\" height=\"24px\" viewBox=\"0 -960 960 960\">\n",
              "    <path d=\"M120-120v-720h720v720H120Zm60-500h600v-160H180v160Zm220 220h160v-160H400v160Zm0 220h160v-160H400v160ZM180-400h160v-160H180v160Zm440 0h160v-160H620v160ZM180-180h160v-160H180v160Zm440 0h160v-160H620v160Z\"/>\n",
              "  </svg>\n",
              "    </button>\n",
              "\n",
              "  <style>\n",
              "    .colab-df-container {\n",
              "      display:flex;\n",
              "      gap: 12px;\n",
              "    }\n",
              "\n",
              "    .colab-df-convert {\n",
              "      background-color: #E8F0FE;\n",
              "      border: none;\n",
              "      border-radius: 50%;\n",
              "      cursor: pointer;\n",
              "      display: none;\n",
              "      fill: #1967D2;\n",
              "      height: 32px;\n",
              "      padding: 0 0 0 0;\n",
              "      width: 32px;\n",
              "    }\n",
              "\n",
              "    .colab-df-convert:hover {\n",
              "      background-color: #E2EBFA;\n",
              "      box-shadow: 0px 1px 2px rgba(60, 64, 67, 0.3), 0px 1px 3px 1px rgba(60, 64, 67, 0.15);\n",
              "      fill: #174EA6;\n",
              "    }\n",
              "\n",
              "    .colab-df-buttons div {\n",
              "      margin-bottom: 4px;\n",
              "    }\n",
              "\n",
              "    [theme=dark] .colab-df-convert {\n",
              "      background-color: #3B4455;\n",
              "      fill: #D2E3FC;\n",
              "    }\n",
              "\n",
              "    [theme=dark] .colab-df-convert:hover {\n",
              "      background-color: #434B5C;\n",
              "      box-shadow: 0px 1px 3px 1px rgba(0, 0, 0, 0.15);\n",
              "      filter: drop-shadow(0px 1px 2px rgba(0, 0, 0, 0.3));\n",
              "      fill: #FFFFFF;\n",
              "    }\n",
              "  </style>\n",
              "\n",
              "    <script>\n",
              "      const buttonEl =\n",
              "        document.querySelector('#df-86cd6565-5931-4b3d-a850-44a869eb9fbd button.colab-df-convert');\n",
              "      buttonEl.style.display =\n",
              "        google.colab.kernel.accessAllowed ? 'block' : 'none';\n",
              "\n",
              "      async function convertToInteractive(key) {\n",
              "        const element = document.querySelector('#df-86cd6565-5931-4b3d-a850-44a869eb9fbd');\n",
              "        const dataTable =\n",
              "          await google.colab.kernel.invokeFunction('convertToInteractive',\n",
              "                                                    [key], {});\n",
              "        if (!dataTable) return;\n",
              "\n",
              "        const docLinkHtml = 'Like what you see? Visit the ' +\n",
              "          '<a target=\"_blank\" href=https://colab.research.google.com/notebooks/data_table.ipynb>data table notebook</a>'\n",
              "          + ' to learn more about interactive tables.';\n",
              "        element.innerHTML = '';\n",
              "        dataTable['output_type'] = 'display_data';\n",
              "        await google.colab.output.renderOutput(dataTable, element);\n",
              "        const docLink = document.createElement('div');\n",
              "        docLink.innerHTML = docLinkHtml;\n",
              "        element.appendChild(docLink);\n",
              "      }\n",
              "    </script>\n",
              "  </div>\n",
              "\n",
              "\n",
              "<div id=\"df-c25fa554-09f7-4a55-935b-e53dc7d634e9\">\n",
              "  <button class=\"colab-df-quickchart\" onclick=\"quickchart('df-c25fa554-09f7-4a55-935b-e53dc7d634e9')\"\n",
              "            title=\"Suggest charts\"\n",
              "            style=\"display:none;\">\n",
              "\n",
              "<svg xmlns=\"http://www.w3.org/2000/svg\" height=\"24px\"viewBox=\"0 0 24 24\"\n",
              "     width=\"24px\">\n",
              "    <g>\n",
              "        <path d=\"M19 3H5c-1.1 0-2 .9-2 2v14c0 1.1.9 2 2 2h14c1.1 0 2-.9 2-2V5c0-1.1-.9-2-2-2zM9 17H7v-7h2v7zm4 0h-2V7h2v10zm4 0h-2v-4h2v4z\"/>\n",
              "    </g>\n",
              "</svg>\n",
              "  </button>\n",
              "\n",
              "<style>\n",
              "  .colab-df-quickchart {\n",
              "      --bg-color: #E8F0FE;\n",
              "      --fill-color: #1967D2;\n",
              "      --hover-bg-color: #E2EBFA;\n",
              "      --hover-fill-color: #174EA6;\n",
              "      --disabled-fill-color: #AAA;\n",
              "      --disabled-bg-color: #DDD;\n",
              "  }\n",
              "\n",
              "  [theme=dark] .colab-df-quickchart {\n",
              "      --bg-color: #3B4455;\n",
              "      --fill-color: #D2E3FC;\n",
              "      --hover-bg-color: #434B5C;\n",
              "      --hover-fill-color: #FFFFFF;\n",
              "      --disabled-bg-color: #3B4455;\n",
              "      --disabled-fill-color: #666;\n",
              "  }\n",
              "\n",
              "  .colab-df-quickchart {\n",
              "    background-color: var(--bg-color);\n",
              "    border: none;\n",
              "    border-radius: 50%;\n",
              "    cursor: pointer;\n",
              "    display: none;\n",
              "    fill: var(--fill-color);\n",
              "    height: 32px;\n",
              "    padding: 0;\n",
              "    width: 32px;\n",
              "  }\n",
              "\n",
              "  .colab-df-quickchart:hover {\n",
              "    background-color: var(--hover-bg-color);\n",
              "    box-shadow: 0 1px 2px rgba(60, 64, 67, 0.3), 0 1px 3px 1px rgba(60, 64, 67, 0.15);\n",
              "    fill: var(--button-hover-fill-color);\n",
              "  }\n",
              "\n",
              "  .colab-df-quickchart-complete:disabled,\n",
              "  .colab-df-quickchart-complete:disabled:hover {\n",
              "    background-color: var(--disabled-bg-color);\n",
              "    fill: var(--disabled-fill-color);\n",
              "    box-shadow: none;\n",
              "  }\n",
              "\n",
              "  .colab-df-spinner {\n",
              "    border: 2px solid var(--fill-color);\n",
              "    border-color: transparent;\n",
              "    border-bottom-color: var(--fill-color);\n",
              "    animation:\n",
              "      spin 1s steps(1) infinite;\n",
              "  }\n",
              "\n",
              "  @keyframes spin {\n",
              "    0% {\n",
              "      border-color: transparent;\n",
              "      border-bottom-color: var(--fill-color);\n",
              "      border-left-color: var(--fill-color);\n",
              "    }\n",
              "    20% {\n",
              "      border-color: transparent;\n",
              "      border-left-color: var(--fill-color);\n",
              "      border-top-color: var(--fill-color);\n",
              "    }\n",
              "    30% {\n",
              "      border-color: transparent;\n",
              "      border-left-color: var(--fill-color);\n",
              "      border-top-color: var(--fill-color);\n",
              "      border-right-color: var(--fill-color);\n",
              "    }\n",
              "    40% {\n",
              "      border-color: transparent;\n",
              "      border-right-color: var(--fill-color);\n",
              "      border-top-color: var(--fill-color);\n",
              "    }\n",
              "    60% {\n",
              "      border-color: transparent;\n",
              "      border-right-color: var(--fill-color);\n",
              "    }\n",
              "    80% {\n",
              "      border-color: transparent;\n",
              "      border-right-color: var(--fill-color);\n",
              "      border-bottom-color: var(--fill-color);\n",
              "    }\n",
              "    90% {\n",
              "      border-color: transparent;\n",
              "      border-bottom-color: var(--fill-color);\n",
              "    }\n",
              "  }\n",
              "</style>\n",
              "\n",
              "  <script>\n",
              "    async function quickchart(key) {\n",
              "      const quickchartButtonEl =\n",
              "        document.querySelector('#' + key + ' button');\n",
              "      quickchartButtonEl.disabled = true;  // To prevent multiple clicks.\n",
              "      quickchartButtonEl.classList.add('colab-df-spinner');\n",
              "      try {\n",
              "        const charts = await google.colab.kernel.invokeFunction(\n",
              "            'suggestCharts', [key], {});\n",
              "      } catch (error) {\n",
              "        console.error('Error during call to suggestCharts:', error);\n",
              "      }\n",
              "      quickchartButtonEl.classList.remove('colab-df-spinner');\n",
              "      quickchartButtonEl.classList.add('colab-df-quickchart-complete');\n",
              "    }\n",
              "    (() => {\n",
              "      let quickchartButtonEl =\n",
              "        document.querySelector('#df-c25fa554-09f7-4a55-935b-e53dc7d634e9 button');\n",
              "      quickchartButtonEl.style.display =\n",
              "        google.colab.kernel.accessAllowed ? 'block' : 'none';\n",
              "    })();\n",
              "  </script>\n",
              "</div>\n",
              "\n",
              "    </div>\n",
              "  </div>\n"
            ]
          },
          "metadata": {},
          "execution_count": 43
        }
      ]
    },
    {
      "cell_type": "code",
      "source": [
        "from sklearn.feature_extraction.text import TfidfVectorizer"
      ],
      "metadata": {
        "id": "7THZ-E_AGvXg"
      },
      "execution_count": 44,
      "outputs": []
    },
    {
      "cell_type": "code",
      "source": [
        "vectorizer =TfidfVectorizer()\n",
        "tf_idf_mat=vectorizer.fit_transform(df['Article'])"
      ],
      "metadata": {
        "id": "cgaOMss1K7lQ"
      },
      "execution_count": 45,
      "outputs": []
    },
    {
      "cell_type": "code",
      "source": [
        "from sklearn.metrics.pairwise import cosine_similarity"
      ],
      "metadata": {
        "id": "52R9Zoz9LU3m"
      },
      "execution_count": 46,
      "outputs": []
    },
    {
      "cell_type": "code",
      "source": [
        "cosine_similarity(tf_idf_mat[0],tf_idf_mat[1])"
      ],
      "metadata": {
        "colab": {
          "base_uri": "https://localhost:8080/"
        },
        "id": "7Lr-dD4oaWxu",
        "outputId": "5ecb4f23-4e47-4d92-e14d-cace27459c55"
      },
      "execution_count": 47,
      "outputs": [
        {
          "output_type": "execute_result",
          "data": {
            "text/plain": [
              "array([[0.34814986]])"
            ]
          },
          "metadata": {},
          "execution_count": 47
        }
      ]
    },
    {
      "cell_type": "code",
      "source": [
        "procesed_data"
      ],
      "metadata": {
        "id": "vY7VPeJrLP7J",
        "colab": {
          "base_uri": "https://localhost:8080/"
        },
        "outputId": "34b9e8da-525f-46ea-f4b2-5de4d05745ca"
      },
      "execution_count": 81,
      "outputs": [
        {
          "output_type": "execute_result",
          "data": {
            "text/plain": [
              "['tv future hand viewer home theatre system plasma high definition tv digital video recorder move living room way people watch tv radically different year time accord expert panel gather annual consumer electronic las vegas discuss new technology impact favourite pastime lead trend programme content deliver viewer home network cable satellite telecom company broadband service provider room portable device talk technology ces digital personal video recorder dvr pvr set box like s tivo uk s sky+ system allow people record store play pause forward wind tv programme want essentially technology allow personalised tv build high definition tv set big business japan slow europe lack high definition programming people forward wind advert forget abide network channel schedule put la carte entertainment network cable satellite company worried mean term advertising revenue brand identity viewer loyalty channel lead technology moment concern raise europe particularly grow uptake service like sky+ happen today month year time uk adam hume bbc broadcast s futurologist tell bbc news website like bbc issue lose advertising revenue pressing issue moment commercial uk broadcaster brand loyalty important talk content brand network brand say tim hanlon brand communication firm starcom mediavest reality broadband connection anybody producer content add challenge hard promote programme choice mean say stacey jolna senior vice president tv guide tv group way people find content want watch simplify tv viewer mean network term channel leaf google s book search engine future instead scheduler help people find want watch kind channel model work young ipod generation take control gadget play suit panel recognise old generation comfortable familiar schedule channel brand know get want choice hand mr hanlon suggest end kid diaper push button possible available say mr hanlon ultimately consumer tell market want 50 000 new gadget technology showcase ces enhance tv watch experience high definition tv set new model lcd liquid crystal display tv launch dvr capability build instead external box example launch humax s 26 inch lcd tv 80 hour tivo dvr dvd recorder s big satellite tv company directtv launch brand dvr 100 hour recording capability instant replay search function set pause rewind tv 90 hour microsoft chief bill gate announce pre keynote speech partnership tivo call tivotogo mean people play recorded programme window pc mobile device reflect increase trend free multimedia people watch want want',\n",
              " 'worldcom boss leave book worldcom boss bernie ebbers accuse oversee $ 11bn £ 5.8bn fraud accounting decision witness tell juror david myers comment questioning defence lawyer argue mr ebber responsible worldcom s problem phone company collapse 2002 prosecutor claim loss hide protect firm s share mr myers plead guilty fraud assist prosecutor monday defence lawyer reid weingarten try distance client allegation cross examination ask mr myers know mr ebber accounting decision aware mr myers reply know mr ebber accounting entry worldcom books mr weingarten press reply witness mr myers admit order false accounting entry request worldcom chief financial officer scott sullivan defence lawyer try paint mr sullivan admit fraud testify later trial mastermind worldcom s accounting house card mr ebber team look portray affable boss admission pe graduate economist ability mr ebber transform worldcom relative unknown $ 160bn telecoms giant investor darling late 1990s worldcom s problem mount competition increase telecoms boom petere firm finally collapse shareholder lose $ 180bn 20 000 worker lose job mr ebber trial expect month find guilty ceo face substantial jail sentence firmly declare innocence',\n",
              " 'tiger wary farrell gamble leicester rush make bid andy farrell great britain rugby league captain decide switch code anybody involve process way away go stage tiger boss john wells tell bbc radio leicester moment lot unknown andy farrell medical situation go big big gamble farrell persistent knee problem operation knee week ago expect month leicester saracens believe head list rugby union club interested sign farrell decide 15 man game union well believe better play back initially m sure step league union involve centre say well think england prefer progress position row use rugby league skill forward jury cross divide club balance strike cost gamble option bring ready replacement',\n",
              " 'yeade face newcastle fa cup premiership newcastle united face trip ryman premier league leader yeade fa cup round game arguably highlight draw potential money spinner non league yeading beat slough second round conference exeter city knock doncaster saturday travel old trafford meet holder manchester united january arsenal draw home stoke chelsea play host scunthorpe non league draw hinckley united hold brentford goalless draw sunday meet league leader luton win replay martin allen s team griffin park number premiership team face difficult away game championship side weekend 8/9 january place everton visit plymouth liverpool travel burnley crystal palace sunderland fulham face carling cup semi finalist watford bolton meet ipswich aston villa draw sheffield united premiership strugglers norwich blackburn west brom away west ham cardiff preston north end respectively southampton visit northampton having beat league carle cup early season middlesbrough draw away swindon notts county spur entertain brighton white hart lane arsenal v stoke swindon notts co v middlesbrough man utd v exeter plymouth v everton leicester v blackpool derby v wigan sunderland v crystal palace wolf v millwall yeade v newcastle hull v colchester tottenham v brighton reading v stockport swansea birmingham v leeds hartlepool v boston milton keynes don v peterborough oldham v man city chelsea v scunthorpe cardiff v blackburn charlton v rochdale west ham v norwich sheff utd v aston villa preston v west brom rotherham v yeovil burnley v liverpool bournemouth v chester coventry v crewe watford v fulham ipswich v bolton portsmouth v gillingham northampton v southampton qpr v nottm forest luton v hinckley brentford match play weekend 8/9 january',\n",
              " 'ocean s raid box office ocean s crime caper sequel star george clooney brad pitt julia roberts go straight number box office chart take $ 40.8 m £ 21 m weekend ticket sale accord studio estimate sequel follow master criminal try pull major heist europe knock week s number national treasure place wesley snipe blade trinity second take $ 16.1 m £ 8.4 m round animate fable polar express star tom hank festive comedy christmas kranks ocean s box office triumph mark fourth big opening december release film lord ring trilogy sequel narrowly beat 2001 predecessor ocean s take $ 38.1 m £ 19.8 m opening weekend $ 184 m £ 95.8 m total remake 1960 film star frank sinatra rat pack ocean s direct oscar win director steven soderbergh soderbergh return direct hit sequel reunite clooney pitt roberts matt damon andy garcia elliott gould catherine zeta jones join star cast s fun good holiday movie say dan fellman president distribution warner bros critic complimentary $ 110 m £ 57.2 m project los angeles times label dispirit vanity project mild review new york times dub sequel unabashedly trivial',\n",
              " 'howard hit mongrel jibe michael howard say claim peter hain tory leader act like attack mongrel show labour rattle opposition upbeat speech party s spring conference brighton say labour s campaigning tactic prove tory hit home mr hain claim tory tactic anti terror bill debate tell little bit rattle mr howard say mr hain leader common tell bbc radio s today programme mr howard s stance government s anti terrorism legislation put country risk accuse tory leader behave like attack mongrel play opposition opposition sake mr howard tell party labour claim cling office cost far year compare fagin shylock fly pig morning peter hain call mongrel don t know tell little bit rattled environment secretary margaret beckett reject mr howard s comment tell radio 4 s pm programme labour rattle real duty try people focus michael howard s record proposal try forward country example see believe poor judgement behalf mr howard say tory policy school taxis immigration crime strike chord voter beginning year election year ve make political weather tell party conference mr howard deny play politic raise case margaret dixon operation cancel seven time grab headline party week ago hit labour claim mrs dixon human shield s human shield mr blair s human mr howard say party plan immigration quota focus media coverage racist common sense pledge clean hospital well school discipline promise rid political correctness national curriculum chance decent state education come ordinary family teenage michael howard apply cambridge today gordon brown love stress party s commitment cut taxis red tape increase basic state pension line earning finish personal appeal party activist win election day able tell child grandchild tell bit play help win famous election election transform country well labour election co ordinator alan milburn say michael howard s speech today confirm say strategy opportunism forward vision country reference appearance mr howard s family conference stage mr milburn say michael howard perfectly entitle pose family today hard work family britain damage plan cut £ 35bn public spending',\n",
              " 'blair prepare poll date tony blair likely 5 election day parliament return easter break bbc s political editor learn andrew marr say mr blair ask queen 4 5 april dissolve parliament end week mr blair far resist call day party step campaigning recently down street draw claim say election timing matter prime minister number 10 spokeswoman announce election want announce election signal frantic week westminster government likely try key legislation parliament government need finance bill cover budget plan pass commons close business end session 7 april seek push organised crime bill d card bill mr marr say wednesday s today programme s senior level inside government parliament doesn t expect election call 4 5 april soon common short easter recess tony blair whip palace ask queen dissolve parliament go labour government officially june 2006 hold general election recent year government favour year term',\n",
              " 'henman hope end dubai seed tim henman slump straight set defeat rain interrupt dubai open quarter final ivan ljubicic croatian eighth seed book place 7 5 6 4 victory british number henman look course level match go 2 0 second set progress halt rain intervene ljubicic hit break seal fourth straight win henman early day spanish fifth seed tommy robredo secure semi final place beat nicolas kiefer germany 6 4 6 4 henman leave curse weather umpire seven break rain match incredibly frustrating henman say s rain umpire doesn t control keep tell play till end game s rain come score s irrelevant couldn t frustrating happy form don t expect desert',\n",
              " 'wilkinson fit face edinburgh england captain jonny wilkinson long await return injury edinburgh saturday wilkinson play injure bicep 17 october take contact training newcastle falcon wednesday 25 year old fly half start saturday s heineken cup match murrayfield bench newcastle director rugby rob andrew say s fine hope game stage 25 year old miss england s autumn international aggravate haematoma upper right arm saracen subsequently replace england captain jason robinson sale s charlie hodgson take number 10 shirt international canada south africa australia wilkinson s year disrupt injury muscle problem follow month sideline shoulder injury sustain world cup final',\n",
              " 'star war child sixth final star war movie suitable young child film maker george lucas say tell tv 60 minute revenge sith dark violent series don t think year old tell cbs programme air sunday lucas predict film rating advise parent scene unsuitable under-13s open uk 19 say expect film classify pg-13 roughly equivalent british 12a rating previous star war film carry restrictive pg parental guidance rating uk pass u suitable exception attack clone get pg rating 2002 revenge sith prequel original 1977 star war film chronicle transformation heroic anakin skywalker evil darth vader travel hell like planet compose erupt volcano molten lava go watch pact devil lucas say film dark emotional s tragedy',\n",
              " 'berlin cheer anti nazi film german movie anti nazi resistance heroine draw loud applause berlin film festival sophie scholl final day portray final day member white rose movement scholl 21 arrest behead brother han 1943 distribute leaflet condemn abhorrent tyranny adolf hitler director marc rothemund say feeling responsibility legacy scholl go idea alive add film draw transcript gestapo interrogation scholl s trial preserve archive communist east germany s secret police discovery inspiration film rothemund work closely survive relative include scholl s sister ensure historical accuracy film scholl member white rose resistance group start distribute anti nazi leaflet summer 1942 arrest drop leaflet munich university call day reckoning adolf hitler s regime film focus day scholl s arrest intense trial see scholl initially deny charge end defiant appearance german film vie prize festival south african film version bizet s tragic opera carman shoot cape town xhosa language premiere berlin festival film entitle u carmen ekhayelitsha carmen khayelitsha township story set perform 40 strong music theatre troupe debut film performance film south african feature 25 year second nominate golden bear award']"
            ]
          },
          "metadata": {},
          "execution_count": 81
        }
      ]
    },
    {
      "cell_type": "code",
      "source": [
        "# similarity between two articels\n",
        "from gensim.models import Word2Vec"
      ],
      "metadata": {
        "id": "W386npJWGZ0k"
      },
      "execution_count": 52,
      "outputs": []
    },
    {
      "cell_type": "code",
      "source": [
        "import nltk"
      ],
      "metadata": {
        "id": "0dEoSudQW6eE"
      },
      "execution_count": 82,
      "outputs": []
    },
    {
      "cell_type": "code",
      "source": [
        "nltk.download('punkt')"
      ],
      "metadata": {
        "colab": {
          "base_uri": "https://localhost:8080/"
        },
        "id": "V6vq1Qz0W8eD",
        "outputId": "bfa80e99-a217-4f97-880e-c4b472740084"
      },
      "execution_count": 83,
      "outputs": [
        {
          "output_type": "stream",
          "name": "stderr",
          "text": [
            "[nltk_data] Downloading package punkt to /root/nltk_data...\n",
            "[nltk_data]   Package punkt is already up-to-date!\n"
          ]
        },
        {
          "output_type": "execute_result",
          "data": {
            "text/plain": [
              "True"
            ]
          },
          "metadata": {},
          "execution_count": 83
        }
      ]
    },
    {
      "cell_type": "code",
      "source": [
        "from nltk.tokenize import word_tokenize\n",
        "tokenized_data=[word_tokenize(sent) for sent in procesed_data]"
      ],
      "metadata": {
        "id": "ZcXFG_L3XBwV"
      },
      "execution_count": 87,
      "outputs": []
    },
    {
      "cell_type": "code",
      "source": [
        "model1 = Word2Vec(sentences=tokenized_data, vector_size=100, min_count = 1)\n"
      ],
      "metadata": {
        "id": "GA6TGQT5Gwys"
      },
      "execution_count": 88,
      "outputs": []
    },
    {
      "cell_type": "code",
      "source": [
        "word_Vectors = model1.wv"
      ],
      "metadata": {
        "id": "XKAGCH8fXm-I"
      },
      "execution_count": 89,
      "outputs": []
    },
    {
      "cell_type": "code",
      "source": [
        "tokenized_data_1d=[]\n",
        "for i in range(len(tokenized_data)):\n",
        "  for j in range(len(tokenized_data[i])):\n",
        "    tokenized_data_1d.append(tokenized_data[i][j])"
      ],
      "metadata": {
        "id": "CCRsKVY7XzWo"
      },
      "execution_count": 92,
      "outputs": []
    },
    {
      "cell_type": "code",
      "source": [
        "wordvectors=[]\n",
        "for i,word in enumerate(tokenized_data_1d):\n",
        "  wordvectors.append(word_Vectors[word])"
      ],
      "metadata": {
        "id": "exHZlakmYUTi"
      },
      "execution_count": 94,
      "outputs": []
    },
    {
      "cell_type": "code",
      "source": [
        "import pandas as pd\n",
        "worvec_df=pd.DataFrame(wordvectors,index=tokenized_data_1d)"
      ],
      "metadata": {
        "id": "YXiMyNT8Ywka"
      },
      "execution_count": 95,
      "outputs": []
    },
    {
      "cell_type": "code",
      "source": [
        "worvec_df"
      ],
      "metadata": {
        "colab": {
          "base_uri": "https://localhost:8080/",
          "height": 443
        },
        "id": "DREN9X_eZAwO",
        "outputId": "85f45b04-3864-4134-a524-5a2c460f3894"
      },
      "execution_count": 97,
      "outputs": [
        {
          "output_type": "execute_result",
          "data": {
            "text/plain": [
              "                0         1         2         3         4         5   \\\n",
              "tv       -0.009074  0.002579 -0.000832 -0.009252 -0.009376 -0.001866   \n",
              "future    0.000173  0.003322 -0.001620  0.000604 -0.009920 -0.003435   \n",
              "hand     -0.004836  0.003467  0.007597 -0.006604  0.002780 -0.006176   \n",
              "viewer   -0.002379  0.007794 -0.003087  0.003621  0.000238  0.001230   \n",
              "home      0.004059  0.000393  0.004762  0.002986  0.001516 -0.007216   \n",
              "...            ...       ...       ...       ...       ...       ...   \n",
              "second    0.004100  0.007206  0.000934 -0.005888  0.004587 -0.008319   \n",
              "nominate  0.002957  0.006252  0.008255 -0.007472 -0.000069 -0.005167   \n",
              "golden    0.006441  0.002700 -0.000248 -0.000373  0.003256  0.003987   \n",
              "bear     -0.003920 -0.001288 -0.006553  0.005604  0.001488  0.002642   \n",
              "award    -0.005652  0.000290  0.000074 -0.005558  0.004693 -0.000269   \n",
              "\n",
              "                6         7         8         9   ...        90        91  \\\n",
              "tv        0.004567  0.004319 -0.006624 -0.006935  ...  0.009541  0.009025   \n",
              "future    0.008267  0.001826 -0.006382  0.002206  ...  0.002972 -0.005623   \n",
              "hand     -0.000386 -0.004787  0.002054  0.002690  ...  0.000278  0.000453   \n",
              "viewer   -0.000358 -0.008246  0.008838  0.006942  ...  0.003690  0.000284   \n",
              "home     -0.008171 -0.005493 -0.007218  0.009569  ...  0.000973 -0.001640   \n",
              "...            ...       ...       ...       ...  ...       ...       ...   \n",
              "second   -0.004711  0.006376  0.005342 -0.000965  ...  0.004023  0.007554   \n",
              "nominate  0.008491  0.009227 -0.006402  0.008314  ...  0.009600  0.002736   \n",
              "golden    0.000564  0.003834 -0.002166  0.003930  ...  0.009371 -0.008844   \n",
              "bear     -0.008816  0.003277  0.004722 -0.009573  ... -0.005190 -0.008051   \n",
              "award     0.007905 -0.004692  0.003438 -0.005679  ... -0.007401 -0.006700   \n",
              "\n",
              "                92        93        94        95        96        97  \\\n",
              "tv       -0.008154 -0.003039  0.010347  0.005297 -0.001325 -0.009153   \n",
              "future   -0.002329 -0.001914 -0.003414 -0.001459 -0.001071  0.002828   \n",
              "hand     -0.002677  0.005133 -0.008853 -0.004842  0.000174  0.007645   \n",
              "viewer    0.002250 -0.003955 -0.002653 -0.000544 -0.003816 -0.001406   \n",
              "home      0.006332 -0.003211 -0.003820 -0.008335 -0.003291  0.002612   \n",
              "...            ...       ...       ...       ...       ...       ...   \n",
              "second   -0.002533 -0.009717  0.009777  0.006111 -0.001483  0.008462   \n",
              "nominate  0.001479  0.005191  0.000209 -0.002383 -0.002195 -0.001595   \n",
              "golden   -0.009561 -0.009933  0.005076  0.003907 -0.005291 -0.006541   \n",
              "bear     -0.008232  0.009730  0.006854 -0.001762  0.002766 -0.008394   \n",
              "award    -0.003744 -0.001053  0.003171 -0.000031  0.000887  0.008100   \n",
              "\n",
              "                98        99  \n",
              "tv        0.003202 -0.006751  \n",
              "future    0.008789 -0.009592  \n",
              "hand      0.002603 -0.002722  \n",
              "viewer    0.008220  0.002238  \n",
              "home     -0.001622  0.000706  \n",
              "...            ...       ...  \n",
              "second    0.001833 -0.003343  \n",
              "nominate -0.005952  0.008809  \n",
              "golden   -0.004583 -0.003743  \n",
              "bear      0.001198 -0.005946  \n",
              "award     0.000887  0.008304  \n",
              "\n",
              "[2096 rows x 100 columns]"
            ],
            "text/html": [
              "\n",
              "  <div id=\"df-910f018b-fa04-45d2-b2b7-ebf310175e9e\" class=\"colab-df-container\">\n",
              "    <div>\n",
              "<style scoped>\n",
              "    .dataframe tbody tr th:only-of-type {\n",
              "        vertical-align: middle;\n",
              "    }\n",
              "\n",
              "    .dataframe tbody tr th {\n",
              "        vertical-align: top;\n",
              "    }\n",
              "\n",
              "    .dataframe thead th {\n",
              "        text-align: right;\n",
              "    }\n",
              "</style>\n",
              "<table border=\"1\" class=\"dataframe\">\n",
              "  <thead>\n",
              "    <tr style=\"text-align: right;\">\n",
              "      <th></th>\n",
              "      <th>0</th>\n",
              "      <th>1</th>\n",
              "      <th>2</th>\n",
              "      <th>3</th>\n",
              "      <th>4</th>\n",
              "      <th>5</th>\n",
              "      <th>6</th>\n",
              "      <th>7</th>\n",
              "      <th>8</th>\n",
              "      <th>9</th>\n",
              "      <th>...</th>\n",
              "      <th>90</th>\n",
              "      <th>91</th>\n",
              "      <th>92</th>\n",
              "      <th>93</th>\n",
              "      <th>94</th>\n",
              "      <th>95</th>\n",
              "      <th>96</th>\n",
              "      <th>97</th>\n",
              "      <th>98</th>\n",
              "      <th>99</th>\n",
              "    </tr>\n",
              "  </thead>\n",
              "  <tbody>\n",
              "    <tr>\n",
              "      <th>tv</th>\n",
              "      <td>-0.009074</td>\n",
              "      <td>0.002579</td>\n",
              "      <td>-0.000832</td>\n",
              "      <td>-0.009252</td>\n",
              "      <td>-0.009376</td>\n",
              "      <td>-0.001866</td>\n",
              "      <td>0.004567</td>\n",
              "      <td>0.004319</td>\n",
              "      <td>-0.006624</td>\n",
              "      <td>-0.006935</td>\n",
              "      <td>...</td>\n",
              "      <td>0.009541</td>\n",
              "      <td>0.009025</td>\n",
              "      <td>-0.008154</td>\n",
              "      <td>-0.003039</td>\n",
              "      <td>0.010347</td>\n",
              "      <td>0.005297</td>\n",
              "      <td>-0.001325</td>\n",
              "      <td>-0.009153</td>\n",
              "      <td>0.003202</td>\n",
              "      <td>-0.006751</td>\n",
              "    </tr>\n",
              "    <tr>\n",
              "      <th>future</th>\n",
              "      <td>0.000173</td>\n",
              "      <td>0.003322</td>\n",
              "      <td>-0.001620</td>\n",
              "      <td>0.000604</td>\n",
              "      <td>-0.009920</td>\n",
              "      <td>-0.003435</td>\n",
              "      <td>0.008267</td>\n",
              "      <td>0.001826</td>\n",
              "      <td>-0.006382</td>\n",
              "      <td>0.002206</td>\n",
              "      <td>...</td>\n",
              "      <td>0.002972</td>\n",
              "      <td>-0.005623</td>\n",
              "      <td>-0.002329</td>\n",
              "      <td>-0.001914</td>\n",
              "      <td>-0.003414</td>\n",
              "      <td>-0.001459</td>\n",
              "      <td>-0.001071</td>\n",
              "      <td>0.002828</td>\n",
              "      <td>0.008789</td>\n",
              "      <td>-0.009592</td>\n",
              "    </tr>\n",
              "    <tr>\n",
              "      <th>hand</th>\n",
              "      <td>-0.004836</td>\n",
              "      <td>0.003467</td>\n",
              "      <td>0.007597</td>\n",
              "      <td>-0.006604</td>\n",
              "      <td>0.002780</td>\n",
              "      <td>-0.006176</td>\n",
              "      <td>-0.000386</td>\n",
              "      <td>-0.004787</td>\n",
              "      <td>0.002054</td>\n",
              "      <td>0.002690</td>\n",
              "      <td>...</td>\n",
              "      <td>0.000278</td>\n",
              "      <td>0.000453</td>\n",
              "      <td>-0.002677</td>\n",
              "      <td>0.005133</td>\n",
              "      <td>-0.008853</td>\n",
              "      <td>-0.004842</td>\n",
              "      <td>0.000174</td>\n",
              "      <td>0.007645</td>\n",
              "      <td>0.002603</td>\n",
              "      <td>-0.002722</td>\n",
              "    </tr>\n",
              "    <tr>\n",
              "      <th>viewer</th>\n",
              "      <td>-0.002379</td>\n",
              "      <td>0.007794</td>\n",
              "      <td>-0.003087</td>\n",
              "      <td>0.003621</td>\n",
              "      <td>0.000238</td>\n",
              "      <td>0.001230</td>\n",
              "      <td>-0.000358</td>\n",
              "      <td>-0.008246</td>\n",
              "      <td>0.008838</td>\n",
              "      <td>0.006942</td>\n",
              "      <td>...</td>\n",
              "      <td>0.003690</td>\n",
              "      <td>0.000284</td>\n",
              "      <td>0.002250</td>\n",
              "      <td>-0.003955</td>\n",
              "      <td>-0.002653</td>\n",
              "      <td>-0.000544</td>\n",
              "      <td>-0.003816</td>\n",
              "      <td>-0.001406</td>\n",
              "      <td>0.008220</td>\n",
              "      <td>0.002238</td>\n",
              "    </tr>\n",
              "    <tr>\n",
              "      <th>home</th>\n",
              "      <td>0.004059</td>\n",
              "      <td>0.000393</td>\n",
              "      <td>0.004762</td>\n",
              "      <td>0.002986</td>\n",
              "      <td>0.001516</td>\n",
              "      <td>-0.007216</td>\n",
              "      <td>-0.008171</td>\n",
              "      <td>-0.005493</td>\n",
              "      <td>-0.007218</td>\n",
              "      <td>0.009569</td>\n",
              "      <td>...</td>\n",
              "      <td>0.000973</td>\n",
              "      <td>-0.001640</td>\n",
              "      <td>0.006332</td>\n",
              "      <td>-0.003211</td>\n",
              "      <td>-0.003820</td>\n",
              "      <td>-0.008335</td>\n",
              "      <td>-0.003291</td>\n",
              "      <td>0.002612</td>\n",
              "      <td>-0.001622</td>\n",
              "      <td>0.000706</td>\n",
              "    </tr>\n",
              "    <tr>\n",
              "      <th>...</th>\n",
              "      <td>...</td>\n",
              "      <td>...</td>\n",
              "      <td>...</td>\n",
              "      <td>...</td>\n",
              "      <td>...</td>\n",
              "      <td>...</td>\n",
              "      <td>...</td>\n",
              "      <td>...</td>\n",
              "      <td>...</td>\n",
              "      <td>...</td>\n",
              "      <td>...</td>\n",
              "      <td>...</td>\n",
              "      <td>...</td>\n",
              "      <td>...</td>\n",
              "      <td>...</td>\n",
              "      <td>...</td>\n",
              "      <td>...</td>\n",
              "      <td>...</td>\n",
              "      <td>...</td>\n",
              "      <td>...</td>\n",
              "      <td>...</td>\n",
              "    </tr>\n",
              "    <tr>\n",
              "      <th>second</th>\n",
              "      <td>0.004100</td>\n",
              "      <td>0.007206</td>\n",
              "      <td>0.000934</td>\n",
              "      <td>-0.005888</td>\n",
              "      <td>0.004587</td>\n",
              "      <td>-0.008319</td>\n",
              "      <td>-0.004711</td>\n",
              "      <td>0.006376</td>\n",
              "      <td>0.005342</td>\n",
              "      <td>-0.000965</td>\n",
              "      <td>...</td>\n",
              "      <td>0.004023</td>\n",
              "      <td>0.007554</td>\n",
              "      <td>-0.002533</td>\n",
              "      <td>-0.009717</td>\n",
              "      <td>0.009777</td>\n",
              "      <td>0.006111</td>\n",
              "      <td>-0.001483</td>\n",
              "      <td>0.008462</td>\n",
              "      <td>0.001833</td>\n",
              "      <td>-0.003343</td>\n",
              "    </tr>\n",
              "    <tr>\n",
              "      <th>nominate</th>\n",
              "      <td>0.002957</td>\n",
              "      <td>0.006252</td>\n",
              "      <td>0.008255</td>\n",
              "      <td>-0.007472</td>\n",
              "      <td>-0.000069</td>\n",
              "      <td>-0.005167</td>\n",
              "      <td>0.008491</td>\n",
              "      <td>0.009227</td>\n",
              "      <td>-0.006402</td>\n",
              "      <td>0.008314</td>\n",
              "      <td>...</td>\n",
              "      <td>0.009600</td>\n",
              "      <td>0.002736</td>\n",
              "      <td>0.001479</td>\n",
              "      <td>0.005191</td>\n",
              "      <td>0.000209</td>\n",
              "      <td>-0.002383</td>\n",
              "      <td>-0.002195</td>\n",
              "      <td>-0.001595</td>\n",
              "      <td>-0.005952</td>\n",
              "      <td>0.008809</td>\n",
              "    </tr>\n",
              "    <tr>\n",
              "      <th>golden</th>\n",
              "      <td>0.006441</td>\n",
              "      <td>0.002700</td>\n",
              "      <td>-0.000248</td>\n",
              "      <td>-0.000373</td>\n",
              "      <td>0.003256</td>\n",
              "      <td>0.003987</td>\n",
              "      <td>0.000564</td>\n",
              "      <td>0.003834</td>\n",
              "      <td>-0.002166</td>\n",
              "      <td>0.003930</td>\n",
              "      <td>...</td>\n",
              "      <td>0.009371</td>\n",
              "      <td>-0.008844</td>\n",
              "      <td>-0.009561</td>\n",
              "      <td>-0.009933</td>\n",
              "      <td>0.005076</td>\n",
              "      <td>0.003907</td>\n",
              "      <td>-0.005291</td>\n",
              "      <td>-0.006541</td>\n",
              "      <td>-0.004583</td>\n",
              "      <td>-0.003743</td>\n",
              "    </tr>\n",
              "    <tr>\n",
              "      <th>bear</th>\n",
              "      <td>-0.003920</td>\n",
              "      <td>-0.001288</td>\n",
              "      <td>-0.006553</td>\n",
              "      <td>0.005604</td>\n",
              "      <td>0.001488</td>\n",
              "      <td>0.002642</td>\n",
              "      <td>-0.008816</td>\n",
              "      <td>0.003277</td>\n",
              "      <td>0.004722</td>\n",
              "      <td>-0.009573</td>\n",
              "      <td>...</td>\n",
              "      <td>-0.005190</td>\n",
              "      <td>-0.008051</td>\n",
              "      <td>-0.008232</td>\n",
              "      <td>0.009730</td>\n",
              "      <td>0.006854</td>\n",
              "      <td>-0.001762</td>\n",
              "      <td>0.002766</td>\n",
              "      <td>-0.008394</td>\n",
              "      <td>0.001198</td>\n",
              "      <td>-0.005946</td>\n",
              "    </tr>\n",
              "    <tr>\n",
              "      <th>award</th>\n",
              "      <td>-0.005652</td>\n",
              "      <td>0.000290</td>\n",
              "      <td>0.000074</td>\n",
              "      <td>-0.005558</td>\n",
              "      <td>0.004693</td>\n",
              "      <td>-0.000269</td>\n",
              "      <td>0.007905</td>\n",
              "      <td>-0.004692</td>\n",
              "      <td>0.003438</td>\n",
              "      <td>-0.005679</td>\n",
              "      <td>...</td>\n",
              "      <td>-0.007401</td>\n",
              "      <td>-0.006700</td>\n",
              "      <td>-0.003744</td>\n",
              "      <td>-0.001053</td>\n",
              "      <td>0.003171</td>\n",
              "      <td>-0.000031</td>\n",
              "      <td>0.000887</td>\n",
              "      <td>0.008100</td>\n",
              "      <td>0.000887</td>\n",
              "      <td>0.008304</td>\n",
              "    </tr>\n",
              "  </tbody>\n",
              "</table>\n",
              "<p>2096 rows × 100 columns</p>\n",
              "</div>\n",
              "    <div class=\"colab-df-buttons\">\n",
              "\n",
              "  <div class=\"colab-df-container\">\n",
              "    <button class=\"colab-df-convert\" onclick=\"convertToInteractive('df-910f018b-fa04-45d2-b2b7-ebf310175e9e')\"\n",
              "            title=\"Convert this dataframe to an interactive table.\"\n",
              "            style=\"display:none;\">\n",
              "\n",
              "  <svg xmlns=\"http://www.w3.org/2000/svg\" height=\"24px\" viewBox=\"0 -960 960 960\">\n",
              "    <path d=\"M120-120v-720h720v720H120Zm60-500h600v-160H180v160Zm220 220h160v-160H400v160Zm0 220h160v-160H400v160ZM180-400h160v-160H180v160Zm440 0h160v-160H620v160ZM180-180h160v-160H180v160Zm440 0h160v-160H620v160Z\"/>\n",
              "  </svg>\n",
              "    </button>\n",
              "\n",
              "  <style>\n",
              "    .colab-df-container {\n",
              "      display:flex;\n",
              "      gap: 12px;\n",
              "    }\n",
              "\n",
              "    .colab-df-convert {\n",
              "      background-color: #E8F0FE;\n",
              "      border: none;\n",
              "      border-radius: 50%;\n",
              "      cursor: pointer;\n",
              "      display: none;\n",
              "      fill: #1967D2;\n",
              "      height: 32px;\n",
              "      padding: 0 0 0 0;\n",
              "      width: 32px;\n",
              "    }\n",
              "\n",
              "    .colab-df-convert:hover {\n",
              "      background-color: #E2EBFA;\n",
              "      box-shadow: 0px 1px 2px rgba(60, 64, 67, 0.3), 0px 1px 3px 1px rgba(60, 64, 67, 0.15);\n",
              "      fill: #174EA6;\n",
              "    }\n",
              "\n",
              "    .colab-df-buttons div {\n",
              "      margin-bottom: 4px;\n",
              "    }\n",
              "\n",
              "    [theme=dark] .colab-df-convert {\n",
              "      background-color: #3B4455;\n",
              "      fill: #D2E3FC;\n",
              "    }\n",
              "\n",
              "    [theme=dark] .colab-df-convert:hover {\n",
              "      background-color: #434B5C;\n",
              "      box-shadow: 0px 1px 3px 1px rgba(0, 0, 0, 0.15);\n",
              "      filter: drop-shadow(0px 1px 2px rgba(0, 0, 0, 0.3));\n",
              "      fill: #FFFFFF;\n",
              "    }\n",
              "  </style>\n",
              "\n",
              "    <script>\n",
              "      const buttonEl =\n",
              "        document.querySelector('#df-910f018b-fa04-45d2-b2b7-ebf310175e9e button.colab-df-convert');\n",
              "      buttonEl.style.display =\n",
              "        google.colab.kernel.accessAllowed ? 'block' : 'none';\n",
              "\n",
              "      async function convertToInteractive(key) {\n",
              "        const element = document.querySelector('#df-910f018b-fa04-45d2-b2b7-ebf310175e9e');\n",
              "        const dataTable =\n",
              "          await google.colab.kernel.invokeFunction('convertToInteractive',\n",
              "                                                    [key], {});\n",
              "        if (!dataTable) return;\n",
              "\n",
              "        const docLinkHtml = 'Like what you see? Visit the ' +\n",
              "          '<a target=\"_blank\" href=https://colab.research.google.com/notebooks/data_table.ipynb>data table notebook</a>'\n",
              "          + ' to learn more about interactive tables.';\n",
              "        element.innerHTML = '';\n",
              "        dataTable['output_type'] = 'display_data';\n",
              "        await google.colab.output.renderOutput(dataTable, element);\n",
              "        const docLink = document.createElement('div');\n",
              "        docLink.innerHTML = docLinkHtml;\n",
              "        element.appendChild(docLink);\n",
              "      }\n",
              "    </script>\n",
              "  </div>\n",
              "\n",
              "\n",
              "<div id=\"df-8f7c2635-7e0e-4243-99fc-ee36f6ef73bf\">\n",
              "  <button class=\"colab-df-quickchart\" onclick=\"quickchart('df-8f7c2635-7e0e-4243-99fc-ee36f6ef73bf')\"\n",
              "            title=\"Suggest charts\"\n",
              "            style=\"display:none;\">\n",
              "\n",
              "<svg xmlns=\"http://www.w3.org/2000/svg\" height=\"24px\"viewBox=\"0 0 24 24\"\n",
              "     width=\"24px\">\n",
              "    <g>\n",
              "        <path d=\"M19 3H5c-1.1 0-2 .9-2 2v14c0 1.1.9 2 2 2h14c1.1 0 2-.9 2-2V5c0-1.1-.9-2-2-2zM9 17H7v-7h2v7zm4 0h-2V7h2v10zm4 0h-2v-4h2v4z\"/>\n",
              "    </g>\n",
              "</svg>\n",
              "  </button>\n",
              "\n",
              "<style>\n",
              "  .colab-df-quickchart {\n",
              "      --bg-color: #E8F0FE;\n",
              "      --fill-color: #1967D2;\n",
              "      --hover-bg-color: #E2EBFA;\n",
              "      --hover-fill-color: #174EA6;\n",
              "      --disabled-fill-color: #AAA;\n",
              "      --disabled-bg-color: #DDD;\n",
              "  }\n",
              "\n",
              "  [theme=dark] .colab-df-quickchart {\n",
              "      --bg-color: #3B4455;\n",
              "      --fill-color: #D2E3FC;\n",
              "      --hover-bg-color: #434B5C;\n",
              "      --hover-fill-color: #FFFFFF;\n",
              "      --disabled-bg-color: #3B4455;\n",
              "      --disabled-fill-color: #666;\n",
              "  }\n",
              "\n",
              "  .colab-df-quickchart {\n",
              "    background-color: var(--bg-color);\n",
              "    border: none;\n",
              "    border-radius: 50%;\n",
              "    cursor: pointer;\n",
              "    display: none;\n",
              "    fill: var(--fill-color);\n",
              "    height: 32px;\n",
              "    padding: 0;\n",
              "    width: 32px;\n",
              "  }\n",
              "\n",
              "  .colab-df-quickchart:hover {\n",
              "    background-color: var(--hover-bg-color);\n",
              "    box-shadow: 0 1px 2px rgba(60, 64, 67, 0.3), 0 1px 3px 1px rgba(60, 64, 67, 0.15);\n",
              "    fill: var(--button-hover-fill-color);\n",
              "  }\n",
              "\n",
              "  .colab-df-quickchart-complete:disabled,\n",
              "  .colab-df-quickchart-complete:disabled:hover {\n",
              "    background-color: var(--disabled-bg-color);\n",
              "    fill: var(--disabled-fill-color);\n",
              "    box-shadow: none;\n",
              "  }\n",
              "\n",
              "  .colab-df-spinner {\n",
              "    border: 2px solid var(--fill-color);\n",
              "    border-color: transparent;\n",
              "    border-bottom-color: var(--fill-color);\n",
              "    animation:\n",
              "      spin 1s steps(1) infinite;\n",
              "  }\n",
              "\n",
              "  @keyframes spin {\n",
              "    0% {\n",
              "      border-color: transparent;\n",
              "      border-bottom-color: var(--fill-color);\n",
              "      border-left-color: var(--fill-color);\n",
              "    }\n",
              "    20% {\n",
              "      border-color: transparent;\n",
              "      border-left-color: var(--fill-color);\n",
              "      border-top-color: var(--fill-color);\n",
              "    }\n",
              "    30% {\n",
              "      border-color: transparent;\n",
              "      border-left-color: var(--fill-color);\n",
              "      border-top-color: var(--fill-color);\n",
              "      border-right-color: var(--fill-color);\n",
              "    }\n",
              "    40% {\n",
              "      border-color: transparent;\n",
              "      border-right-color: var(--fill-color);\n",
              "      border-top-color: var(--fill-color);\n",
              "    }\n",
              "    60% {\n",
              "      border-color: transparent;\n",
              "      border-right-color: var(--fill-color);\n",
              "    }\n",
              "    80% {\n",
              "      border-color: transparent;\n",
              "      border-right-color: var(--fill-color);\n",
              "      border-bottom-color: var(--fill-color);\n",
              "    }\n",
              "    90% {\n",
              "      border-color: transparent;\n",
              "      border-bottom-color: var(--fill-color);\n",
              "    }\n",
              "  }\n",
              "</style>\n",
              "\n",
              "  <script>\n",
              "    async function quickchart(key) {\n",
              "      const quickchartButtonEl =\n",
              "        document.querySelector('#' + key + ' button');\n",
              "      quickchartButtonEl.disabled = true;  // To prevent multiple clicks.\n",
              "      quickchartButtonEl.classList.add('colab-df-spinner');\n",
              "      try {\n",
              "        const charts = await google.colab.kernel.invokeFunction(\n",
              "            'suggestCharts', [key], {});\n",
              "      } catch (error) {\n",
              "        console.error('Error during call to suggestCharts:', error);\n",
              "      }\n",
              "      quickchartButtonEl.classList.remove('colab-df-spinner');\n",
              "      quickchartButtonEl.classList.add('colab-df-quickchart-complete');\n",
              "    }\n",
              "    (() => {\n",
              "      let quickchartButtonEl =\n",
              "        document.querySelector('#df-8f7c2635-7e0e-4243-99fc-ee36f6ef73bf button');\n",
              "      quickchartButtonEl.style.display =\n",
              "        google.colab.kernel.accessAllowed ? 'block' : 'none';\n",
              "    })();\n",
              "  </script>\n",
              "</div>\n",
              "\n",
              "  <div id=\"id_3bbb4ee7-793c-436f-a43b-65291fe037f0\">\n",
              "    <style>\n",
              "      .colab-df-generate {\n",
              "        background-color: #E8F0FE;\n",
              "        border: none;\n",
              "        border-radius: 50%;\n",
              "        cursor: pointer;\n",
              "        display: none;\n",
              "        fill: #1967D2;\n",
              "        height: 32px;\n",
              "        padding: 0 0 0 0;\n",
              "        width: 32px;\n",
              "      }\n",
              "\n",
              "      .colab-df-generate:hover {\n",
              "        background-color: #E2EBFA;\n",
              "        box-shadow: 0px 1px 2px rgba(60, 64, 67, 0.3), 0px 1px 3px 1px rgba(60, 64, 67, 0.15);\n",
              "        fill: #174EA6;\n",
              "      }\n",
              "\n",
              "      [theme=dark] .colab-df-generate {\n",
              "        background-color: #3B4455;\n",
              "        fill: #D2E3FC;\n",
              "      }\n",
              "\n",
              "      [theme=dark] .colab-df-generate:hover {\n",
              "        background-color: #434B5C;\n",
              "        box-shadow: 0px 1px 3px 1px rgba(0, 0, 0, 0.15);\n",
              "        filter: drop-shadow(0px 1px 2px rgba(0, 0, 0, 0.3));\n",
              "        fill: #FFFFFF;\n",
              "      }\n",
              "    </style>\n",
              "    <button class=\"colab-df-generate\" onclick=\"generateWithVariable('worvec_df')\"\n",
              "            title=\"Generate code using this dataframe.\"\n",
              "            style=\"display:none;\">\n",
              "\n",
              "  <svg xmlns=\"http://www.w3.org/2000/svg\" height=\"24px\"viewBox=\"0 0 24 24\"\n",
              "       width=\"24px\">\n",
              "    <path d=\"M7,19H8.4L18.45,9,17,7.55,7,17.6ZM5,21V16.75L18.45,3.32a2,2,0,0,1,2.83,0l1.4,1.43a1.91,1.91,0,0,1,.58,1.4,1.91,1.91,0,0,1-.58,1.4L9.25,21ZM18.45,9,17,7.55Zm-12,3A5.31,5.31,0,0,0,4.9,8.1,5.31,5.31,0,0,0,1,6.5,5.31,5.31,0,0,0,4.9,4.9,5.31,5.31,0,0,0,6.5,1,5.31,5.31,0,0,0,8.1,4.9,5.31,5.31,0,0,0,12,6.5,5.46,5.46,0,0,0,6.5,12Z\"/>\n",
              "  </svg>\n",
              "    </button>\n",
              "    <script>\n",
              "      (() => {\n",
              "      const buttonEl =\n",
              "        document.querySelector('#id_3bbb4ee7-793c-436f-a43b-65291fe037f0 button.colab-df-generate');\n",
              "      buttonEl.style.display =\n",
              "        google.colab.kernel.accessAllowed ? 'block' : 'none';\n",
              "\n",
              "      buttonEl.onclick = () => {\n",
              "        google.colab.notebook.generateWithVariable('worvec_df');\n",
              "      }\n",
              "      })();\n",
              "    </script>\n",
              "  </div>\n",
              "\n",
              "    </div>\n",
              "  </div>\n"
            ]
          },
          "metadata": {},
          "execution_count": 97
        }
      ]
    },
    {
      "cell_type": "code",
      "source": [
        "nominate_vector =word_Vectors['nominate'].reshape(-1,1)\n",
        "golden_vector =word_Vectors['golden'].reshape(-1,1)"
      ],
      "metadata": {
        "id": "SwNmbm7EZhQ2"
      },
      "execution_count": 98,
      "outputs": []
    },
    {
      "cell_type": "code",
      "source": [
        "cosine_similarity(nominate_vector,golden_vector)[0][0]"
      ],
      "metadata": {
        "colab": {
          "base_uri": "https://localhost:8080/"
        },
        "id": "A_zu8fGnZvic",
        "outputId": "113139d6-2d61-4af0-c9ac-ecf0828ba0b3"
      },
      "execution_count": 99,
      "outputs": [
        {
          "output_type": "execute_result",
          "data": {
            "text/plain": [
              "1.0"
            ]
          },
          "metadata": {},
          "execution_count": 99
        }
      ]
    },
    {
      "cell_type": "code",
      "source": [
        "nominate_vector =word_Vectors['nominate'].reshape(-1,1)\n",
        "bear_vector =word_Vectors['bear'].reshape(-1,1)"
      ],
      "metadata": {
        "id": "yZLaMluqZ-BZ"
      },
      "execution_count": 100,
      "outputs": []
    },
    {
      "cell_type": "code",
      "source": [
        "cosine_similarity(nominate_vector,bear_vector)[0][0]"
      ],
      "metadata": {
        "colab": {
          "base_uri": "https://localhost:8080/"
        },
        "id": "4oIzIDeRaDt1",
        "outputId": "dea4b84d-b9ea-4fa7-8ca5-c0eb76af956f"
      },
      "execution_count": 101,
      "outputs": [
        {
          "output_type": "execute_result",
          "data": {
            "text/plain": [
              "-1.0"
            ]
          },
          "metadata": {},
          "execution_count": 101
        }
      ]
    }
  ]
}